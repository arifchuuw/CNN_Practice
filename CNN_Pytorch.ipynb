{
  "nbformat": 4,
  "nbformat_minor": 0,
  "metadata": {
    "colab": {
      "name": "CNN Pytorch.ipynb",
      "provenance": [],
      "collapsed_sections": [],
      "authorship_tag": "ABX9TyNkwDAPMPXrmFVNHWR2BSm3",
      "include_colab_link": true
    },
    "kernelspec": {
      "name": "python3",
      "display_name": "Python 3"
    },
    "language_info": {
      "name": "python"
    },
    "accelerator": "GPU",
    "gpuClass": "standard"
  },
  "cells": [
    {
      "cell_type": "markdown",
      "metadata": {
        "id": "view-in-github",
        "colab_type": "text"
      },
      "source": [
        "<a href=\"https://colab.research.google.com/github/arifchuuw/python/blob/mainbranch/CNN_Pytorch.ipynb\" target=\"_parent\"><img src=\"https://colab.research.google.com/assets/colab-badge.svg\" alt=\"Open In Colab\"/></a>"
      ]
    },
    {
      "cell_type": "code",
      "source": [
        "import os\n",
        "os.environ['KAGGLE_USERNAME'] = \"arifchu\" \n",
        "os.environ['KAGGLE_KEY'] = \"70d6f91d2a9a2d4eb99f7097ae948db6\" \n",
        "!kaggle competitions download -c dogs-vs-cats # api copied from kaggle"
      ],
      "metadata": {
        "colab": {
          "base_uri": "https://localhost:8080/"
        },
        "id": "LymAbV1wiKBM",
        "outputId": "a0f32e60-dfe7-4cac-fd5d-3ed78d259402"
      },
      "execution_count": null,
      "outputs": [
        {
          "output_type": "stream",
          "name": "stdout",
          "text": [
            "Downloading dogs-vs-cats.zip to /content\n",
            "100% 811M/812M [00:10<00:00, 72.1MB/s]\n",
            "100% 812M/812M [00:10<00:00, 77.7MB/s]\n"
          ]
        }
      ]
    },
    {
      "cell_type": "code",
      "source": [
        "# Upload data and extract the contents\n",
        "from zipfile import ZipFile\n",
        "\n",
        "file_name = \"/content/dogs-vs-cats.zip\"\n",
        "\n",
        "with ZipFile(file_name, 'r') as zip:\n",
        "  zip.extractall()\n",
        "  print('done')"
      ],
      "metadata": {
        "colab": {
          "base_uri": "https://localhost:8080/"
        },
        "id": "lzTOzXDIZYZ1",
        "outputId": "1a1ff9b1-562c-43f1-fbc3-9a9ad01bda61"
      },
      "execution_count": null,
      "outputs": [
        {
          "output_type": "stream",
          "name": "stdout",
          "text": [
            "done\n"
          ]
        }
      ]
    },
    {
      "cell_type": "code",
      "source": [
        "train_file_name = \"/content/train.zip\"\n",
        "\n",
        "with ZipFile(train_file_name, 'r') as zip:\n",
        "  zip.extractall(\".\")\n",
        "  print('done')"
      ],
      "metadata": {
        "colab": {
          "base_uri": "https://localhost:8080/"
        },
        "id": "6ihKDKghZaT_",
        "outputId": "19325e82-f83b-4b80-a9e8-ac723823dcc9"
      },
      "execution_count": null,
      "outputs": [
        {
          "output_type": "stream",
          "name": "stdout",
          "text": [
            "done\n"
          ]
        }
      ]
    },
    {
      "cell_type": "code",
      "source": [
        "train_file_name = \"/content/test1.zip\"\n",
        "\n",
        "with ZipFile(train_file_name, 'r') as zip:\n",
        "  zip.extractall(\".\")\n",
        "  print('done')"
      ],
      "metadata": {
        "colab": {
          "base_uri": "https://localhost:8080/"
        },
        "id": "4Nw-mjdKWOIG",
        "outputId": "8fa5a5bd-cef4-4700-a370-498275890c6f"
      },
      "execution_count": null,
      "outputs": [
        {
          "output_type": "stream",
          "name": "stdout",
          "text": [
            "done\n"
          ]
        }
      ]
    },
    {
      "cell_type": "code",
      "source": [
        "import os\n",
        "import cv2\n",
        "import time\n",
        "import random\n",
        "import numpy as np\n",
        "\n",
        "import torch\n",
        "import torch.nn as nn\n",
        "import torch.nn.functional as F\n",
        "\n",
        "from torch.utils.data import Dataset, DataLoader\n",
        "\n",
        "import torchvision.transforms as T\n",
        "from torchvision.utils import make_grid\n",
        "from torchvision.models import resnet50\n",
        "\n",
        "from sklearn.model_selection import train_test_split\n",
        "\n",
        "from PIL import Image\n",
        "\n",
        "import matplotlib.pyplot as plt\n",
        "%matplotlib inline"
      ],
      "metadata": {
        "id": "IdMLHlIAiies"
      },
      "execution_count": null,
      "outputs": []
    },
    {
      "cell_type": "code",
      "source": [
        "DIR_TRAIN = \"/content/train\"\n",
        "DIR_TEST = \"/content/test1\""
      ],
      "metadata": {
        "id": "ecuCWIUuWlLd"
      },
      "execution_count": null,
      "outputs": []
    },
    {
      "cell_type": "code",
      "source": [
        "imgs = os.listdir(DIR_TRAIN) \n",
        "test_imgs = os.listdir(DIR_TEST)\n",
        "\n",
        "print(imgs[:5])\n",
        "print(test_imgs[:5])"
      ],
      "metadata": {
        "colab": {
          "base_uri": "https://localhost:8080/"
        },
        "id": "8jGIS_wXWrCK",
        "outputId": "0e850df5-2374-43f3-8ab5-42cd4421a6b8"
      },
      "execution_count": null,
      "outputs": [
        {
          "output_type": "stream",
          "name": "stdout",
          "text": [
            "['cat.1207.jpg', 'cat.2601.jpg', 'cat.708.jpg', 'dog.4728.jpg', 'cat.7944.jpg']\n",
            "['6192.jpg', '4108.jpg', '491.jpg', '10296.jpg', '7762.jpg']\n"
          ]
        }
      ]
    },
    {
      "cell_type": "code",
      "source": [
        "dogs_list = [img for img in imgs if img.split(\".\")[0] == \"dog\"]\n",
        "cats_list = [img for img in imgs if img.split(\".\")[0] == \"cat\"]\n",
        "\n",
        "print(\"No of Dogs Images: \",len(dogs_list))\n",
        "print(\"No of Cats Images: \",len(cats_list))\n",
        "\n",
        "class_to_int = {\"dog\" : 0, \"cat\" : 1}\n",
        "int_to_class = {0 : \"dog\", 1 : \"cat\"}"
      ],
      "metadata": {
        "colab": {
          "base_uri": "https://localhost:8080/"
        },
        "id": "mEr-Wee0XCdX",
        "outputId": "866037cd-2e3e-4efc-cbe1-e1fe76c09b35"
      },
      "execution_count": null,
      "outputs": [
        {
          "output_type": "stream",
          "name": "stdout",
          "text": [
            "No of Dogs Images:  12500\n",
            "No of Cats Images:  12500\n"
          ]
        }
      ]
    },
    {
      "cell_type": "code",
      "source": [
        "def get_train_transform():\n",
        "    return T.Compose([\n",
        "        T.RandomHorizontalFlip(p=0.5),\n",
        "        T.RandomRotation(15),\n",
        "        T.RandomCrop(204),\n",
        "        T.ToTensor(),\n",
        "        T.Normalize((0, 0, 0),(1, 1, 1))\n",
        "    ])\n",
        "    \n",
        "def get_val_transform():\n",
        "    return T.Compose([\n",
        "        T.ToTensor(),\n",
        "        T.Normalize((0, 0, 0),(1, 1, 1))\n",
        "    ])"
      ],
      "metadata": {
        "id": "lhu7kVXRXHX-"
      },
      "execution_count": null,
      "outputs": []
    },
    {
      "cell_type": "code",
      "source": [
        "class CatDogDataset(Dataset):\n",
        "    \n",
        "    def __init__(self, imgs, class_to_int, mode = \"train\", transforms = None):\n",
        "        \n",
        "        super().__init__()\n",
        "        self.imgs = imgs\n",
        "        self.class_to_int = class_to_int\n",
        "        self.mode = mode\n",
        "        self.transforms = transforms\n",
        "        \n",
        "    def __getitem__(self, idx):\n",
        "        \n",
        "        image_name = self.imgs[idx]\n",
        "        img = Image.open(DIR_TRAIN + \"/\" + image_name)\n",
        "        img = img.resize((224, 224))\n",
        "        \n",
        "        if self.mode == \"train\" or self.mode == \"val\":\n",
        "        \n",
        "            # Preparing class label\n",
        "            label = self.class_to_int[image_name.split(\".\")[0]]\n",
        "            label = torch.tensor(label, dtype = torch.float32)\n",
        "\n",
        "            # Apply Transforms on image\n",
        "            img = self.transforms(img)\n",
        "\n",
        "            return img, label\n",
        "        \n",
        "        elif self.mode == \"test\":\n",
        "            \n",
        "            # Apply Transforms on image\n",
        "            img = self.transforms(img)\n",
        "\n",
        "            return img\n",
        "            \n",
        "        \n",
        "    def __len__(self):\n",
        "        return len(self.imgs)\n",
        "    "
      ],
      "metadata": {
        "id": "UhJvUxyGzwtb"
      },
      "execution_count": null,
      "outputs": []
    },
    {
      "cell_type": "code",
      "source": [
        "train_imgs, val_imgs = train_test_split(imgs, test_size = 0.25)"
      ],
      "metadata": {
        "id": "sXQZqT6CXSXQ"
      },
      "execution_count": null,
      "outputs": []
    },
    {
      "cell_type": "code",
      "source": [
        "train_dataset = CatDogDataset(train_imgs, class_to_int, mode = \"train\", transforms = get_train_transform())\n",
        "val_dataset = CatDogDataset(val_imgs, class_to_int, mode = \"val\", transforms = get_val_transform())\n",
        "test_dataset = CatDogDataset(test_imgs, class_to_int, mode = \"test\", transforms = get_val_transform())\n",
        "\n",
        "train_data_loader = DataLoader(\n",
        "    dataset = train_dataset,\n",
        "    num_workers = 0,\n",
        "    batch_size = 16,\n",
        "    shuffle = True\n",
        ")\n",
        "\n",
        "val_data_loader = DataLoader(\n",
        "    dataset = val_dataset,\n",
        "    num_workers = 0,\n",
        "    batch_size = 16,\n",
        "    shuffle = True\n",
        ")\n",
        "\n",
        "test_data_loader = DataLoader(\n",
        "    dataset = test_dataset,\n",
        "    num_workers = 0,\n",
        "    batch_size = 16,\n",
        "    shuffle = True\n",
        ")"
      ],
      "metadata": {
        "id": "U_LOiLbSXVjP"
      },
      "execution_count": null,
      "outputs": []
    },
    {
      "cell_type": "code",
      "source": [
        "device = torch.device('cuda') if torch.cuda.is_available() else torch.device('cpu')"
      ],
      "metadata": {
        "id": "9bnaaa73XuHd"
      },
      "execution_count": null,
      "outputs": []
    },
    {
      "cell_type": "code",
      "source": [
        "def accuracy(preds, trues):\n",
        "    \n",
        "    # Converting preds to 0 or 1\n",
        "    preds = [1 if preds[i] >= 0.5 else 0 for i in range(len(preds))]\n",
        "    \n",
        "    # Calculating accuracy by comparing predictions with true labels\n",
        "    acc = [1 if preds[i] == trues[i] else 0 for i in range(len(preds))]\n",
        "    \n",
        "    # Summing over all correct predictions\n",
        "    acc = np.sum(acc) / len(preds)\n",
        "    \n",
        "    return (acc * 100)\n",
        "    "
      ],
      "metadata": {
        "id": "LwP83j8QaIL5"
      },
      "execution_count": null,
      "outputs": []
    },
    {
      "cell_type": "code",
      "source": [
        "def train_one_epoch(train_data_loader):\n",
        "    \n",
        "    # Local Parameters\n",
        "    epoch_loss = []\n",
        "    epoch_acc = []\n",
        "    start_time = time.time()\n",
        "    \n",
        "    # Iterating over data loader\n",
        "    for images, labels in train_data_loader:\n",
        "        \n",
        "        # Loading images and labels to device\n",
        "        images = images.to(device)\n",
        "        labels = labels.to(device)\n",
        "        labels = labels.reshape((labels.shape[0], 1)) # [N, 1] - to match with preds shape\n",
        "        \n",
        "        # Reseting Gradients\n",
        "        optimizer.zero_grad()\n",
        "        \n",
        "        # Forward\n",
        "        preds = model(images)\n",
        "        \n",
        "        # Calculating Loss\n",
        "        _loss = criterion(preds, labels)\n",
        "        loss = _loss.item()\n",
        "        epoch_loss.append(loss)\n",
        "        \n",
        "        # Calculating Accuracy\n",
        "        acc = accuracy(preds, labels)\n",
        "        epoch_acc.append(acc)\n",
        "        \n",
        "        #Backward\n",
        "        _loss.backward()\n",
        "        optimizer.step()\n",
        "    \n",
        "    # Overall Epoch Results\n",
        "    end_time = time.time()\n",
        "    total_time = end_time - start_time\n",
        "    \n",
        "    # Acc and Loss\n",
        "    epoch_loss = np.mean(epoch_loss)\n",
        "    epoch_acc = np.mean(epoch_acc)\n",
        "    \n",
        "    # Storing results to logs\n",
        "    train_logs[\"loss\"].append(epoch_loss)\n",
        "    train_logs[\"accuracy\"].append(epoch_acc)\n",
        "    train_logs[\"time\"].append(total_time)\n",
        "        \n",
        "    return epoch_loss, epoch_acc, total_time\n",
        "        "
      ],
      "metadata": {
        "id": "oL_iENVaabq-"
      },
      "execution_count": null,
      "outputs": []
    },
    {
      "cell_type": "code",
      "source": [
        "def val_one_epoch(val_data_loader, best_val_acc):\n",
        "    \n",
        "    # Local Parameters\n",
        "    epoch_loss = []\n",
        "    epoch_acc = []\n",
        "    start_time = time.time()\n",
        "    \n",
        "    # Iterating over data loader\n",
        "    for images, labels in val_data_loader:\n",
        "        \n",
        "        # Loading images and labels to device\n",
        "        images = images.to(device)\n",
        "        labels = labels.to(device)\n",
        "        labels = labels.reshape((labels.shape[0], 1)) # [N, 1] - to match with preds shape\n",
        "        \n",
        "        # Forward\n",
        "        preds = model(images)\n",
        "        \n",
        "        # Calculating Loss\n",
        "        _loss = criterion(preds, labels)\n",
        "        loss = _loss.item()\n",
        "        epoch_loss.append(loss)\n",
        "        \n",
        "        # Calculating Accuracy\n",
        "        acc = accuracy(preds, labels)\n",
        "        epoch_acc.append(acc)\n",
        "    \n",
        "    # Overall Epoch Results\n",
        "    end_time = time.time()\n",
        "    total_time = end_time - start_time\n",
        "    \n",
        "    # Acc and Loss\n",
        "    epoch_loss = np.mean(epoch_loss)\n",
        "    epoch_acc = np.mean(epoch_acc)\n",
        "    \n",
        "    # Storing results to logs\n",
        "    val_logs[\"loss\"].append(epoch_loss)\n",
        "    val_logs[\"accuracy\"].append(epoch_acc)\n",
        "    val_logs[\"time\"].append(total_time)\n",
        "    \n",
        "    # Saving best model\n",
        "    if epoch_acc > best_val_acc:\n",
        "        best_val_acc = epoch_acc\n",
        "        torch.save(model.state_dict(),\"resnet50_best.pth\")\n",
        "        \n",
        "    return epoch_loss, epoch_acc, total_time, best_val_acc\n",
        "        "
      ],
      "metadata": {
        "id": "7za945qsad8h"
      },
      "execution_count": null,
      "outputs": []
    },
    {
      "cell_type": "code",
      "source": [
        "model = resnet50(pretrained = False)\n",
        "\n",
        "# Modifying Head - classifier\n",
        "\n",
        "model.fc = nn.Sequential(\n",
        "    nn.Linear(2048, 1, bias = True),\n",
        "    nn.Sigmoid()\n",
        ")"
      ],
      "metadata": {
        "id": "zQ6k49pjafqI"
      },
      "execution_count": null,
      "outputs": []
    },
    {
      "cell_type": "code",
      "source": [
        "# Optimizer\n",
        "optimizer = torch.optim.Adam(model.parameters(), lr = 0.0001)\n",
        "\n",
        "# Learning Rate Scheduler\n",
        "lr_scheduler = torch.optim.lr_scheduler.StepLR(optimizer, step_size = 5, gamma = 0.5)\n",
        "\n",
        "# Loss Function\n",
        "criterion = nn.BCELoss()\n",
        "\n",
        "# Logs - Helpful for plotting after training finishes\n",
        "train_logs = {\"loss\" : [], \"accuracy\" : [], \"time\" : []}\n",
        "val_logs = {\"loss\" : [], \"accuracy\" : [], \"time\" : []}\n",
        "\n",
        "# Loading model to device\n",
        "model.to(device)\n",
        "\n",
        "# No of epochs \n",
        "epochs = 10"
      ],
      "metadata": {
        "id": "icFHSz-Zainf"
      },
      "execution_count": null,
      "outputs": []
    },
    {
      "cell_type": "code",
      "source": [
        "best_val_acc = 0\n",
        "for epoch in range(epochs):\n",
        "    \n",
        "    # Training\n",
        "    loss, acc, _time = train_one_epoch(train_data_loader)\n",
        "    \n",
        "    # Print Epoch Details\n",
        "    print(\"\\nTraining\")\n",
        "    print(\"Epoch {}\".format(epoch+1))\n",
        "    print(\"Loss : {}\".format(round(loss, 4)))\n",
        "    print(\"Acc : {}\".format(round(acc, 4)))\n",
        "    print(\"Time : {}\".format(round(_time, 4)))\n",
        "    \n",
        "    # Validation\n",
        "    loss, acc, _time, best_val_acc = val_one_epoch(val_data_loader, best_val_acc)\n",
        "    \n",
        "    # Print Epoch Details\n",
        "    print(\"\\nValidating\")\n",
        "    print(\"Epoch {}\".format(epoch+1))\n",
        "    print(\"Loss : {}\".format(round(loss, 4)))\n",
        "    print(\"Acc : {}\".format(round(acc, 4)))\n",
        "    print(\"Time : {}\".format(round(_time, 4)))"
      ],
      "metadata": {
        "colab": {
          "base_uri": "https://localhost:8080/"
        },
        "id": "77hAyxdYakQ0",
        "outputId": "b9e52bc7-19c1-43a6-8a7a-2467ace3ea1e"
      },
      "execution_count": null,
      "outputs": [
        {
          "output_type": "stream",
          "name": "stdout",
          "text": [
            "\n",
            "Training\n",
            "Epoch 1\n",
            "Loss : 0.6547\n",
            "Acc : 61.8029\n",
            "Time : 308.3369\n",
            "\n",
            "Validating\n",
            "Epoch 1\n",
            "Loss : 0.6521\n",
            "Acc : 64.383\n",
            "Time : 51.6063\n",
            "\n",
            "Training\n",
            "Epoch 2\n",
            "Loss : 0.5831\n",
            "Acc : 69.2452\n",
            "Time : 308.1121\n",
            "\n",
            "Validating\n",
            "Epoch 2\n",
            "Loss : 0.5952\n",
            "Acc : 68.0019\n",
            "Time : 50.9153\n",
            "\n",
            "Training\n",
            "Epoch 3\n",
            "Loss : 0.5036\n",
            "Acc : 74.8431\n",
            "Time : 303.4451\n",
            "\n",
            "Validating\n",
            "Epoch 3\n",
            "Loss : 0.5051\n",
            "Acc : 74.5908\n",
            "Time : 50.9107\n",
            "\n",
            "Training\n",
            "Epoch 4\n",
            "Loss : 0.4353\n",
            "Acc : 79.4254\n",
            "Time : 303.1642\n",
            "\n",
            "Validating\n",
            "Epoch 4\n",
            "Loss : 0.4522\n",
            "Acc : 79.2104\n",
            "Time : 50.2088\n",
            "\n",
            "Training\n",
            "Epoch 5\n",
            "Loss : 0.3794\n",
            "Acc : 82.6723\n",
            "Time : 303.6113\n",
            "\n",
            "Validating\n",
            "Epoch 5\n",
            "Loss : 0.3538\n",
            "Acc : 84.4118\n",
            "Time : 50.3496\n",
            "\n",
            "Training\n",
            "Epoch 6\n",
            "Loss : 0.3169\n",
            "Acc : 86.1287\n",
            "Time : 303.4635\n",
            "\n",
            "Validating\n",
            "Epoch 6\n",
            "Loss : 0.32\n",
            "Acc : 85.8184\n",
            "Time : 51.0373\n",
            "\n",
            "Training\n",
            "Epoch 7\n",
            "Loss : 0.2746\n",
            "Acc : 88.1773\n",
            "Time : 303.9412\n",
            "\n",
            "Validating\n",
            "Epoch 7\n",
            "Loss : 0.2639\n",
            "Acc : 88.7852\n",
            "Time : 50.4591\n",
            "\n",
            "Training\n",
            "Epoch 8\n",
            "Loss : 0.2424\n",
            "Acc : 89.6742\n",
            "Time : 303.8318\n",
            "\n",
            "Validating\n",
            "Epoch 8\n",
            "Loss : 0.2347\n",
            "Acc : 89.9105\n",
            "Time : 50.5645\n",
            "\n",
            "Training\n",
            "Epoch 9\n",
            "Loss : 0.214\n",
            "Acc : 90.9396\n",
            "Time : 304.3733\n",
            "\n",
            "Validating\n",
            "Epoch 9\n",
            "Loss : 0.2336\n",
            "Acc : 90.1503\n",
            "Time : 50.425\n",
            "\n",
            "Training\n",
            "Epoch 10\n",
            "Loss : 0.1925\n",
            "Acc : 91.8294\n",
            "Time : 304.138\n",
            "\n",
            "Validating\n",
            "Epoch 10\n",
            "Loss : 0.2289\n",
            "Acc : 90.9431\n",
            "Time : 50.3356\n"
          ]
        }
      ]
    },
    {
      "cell_type": "code",
      "source": [
        "### Plotting Results\n",
        "\n",
        "# Accuracy\n",
        "plt.title(\"Accuracy\")\n",
        "plt.plot(np.arange(1, 11, 1), train_logs[\"accuracy\"], 'bo', label = \"training acc\")\n",
        "plt.plot(np.arange(1, 11, 1), val_logs[\"accuracy\"], 'r', label = \"validation acc\")\n",
        "plt.xlabel(\"Epochs\")\n",
        "plt.ylabel(\"Accuracy\")\n",
        "plt.legend()\n",
        "\n",
        "plt.show()\n",
        "\n",
        "# Loss\n",
        "plt.title(\"Loss\")\n",
        "plt.plot(np.arange(1, 11, 1), train_logs[\"loss\"], 'bo', label = \"training loss\")\n",
        "plt.plot(np.arange(1, 11, 1), val_logs[\"loss\"], 'r', label = \"validation loss\")\n",
        "plt.xlabel(\"Epochs\")\n",
        "plt.ylabel(\"Loss\")\n",
        "plt.legend()\n",
        "\n",
        "plt.show()\n"
      ],
      "metadata": {
        "id": "A0_XjdyTankU",
        "colab": {
          "base_uri": "https://localhost:8080/",
          "height": 573
        },
        "outputId": "cf1db481-6621-4b7e-c665-0d196036fc0d"
      },
      "execution_count": null,
      "outputs": [
        {
          "output_type": "display_data",
          "data": {
            "text/plain": [
              "<Figure size 432x288 with 1 Axes>"
            ],
            "image/png": "[encoded data removed]"
          },
          "metadata": {
            "needs_background": "light"
          }
        },
        {
          "output_type": "display_data",
          "data": {
            "text/plain": [
              "<Figure size 432x288 with 1 Axes>"
            ],
            "image/png": "[encoded data removed]"
          },
          "metadata": {
            "needs_background": "light"
          }
        }
      ]
    },
    {
      "cell_type": "code",
      "source": [
        ""
      ],
      "metadata": {
        "id": "gomzGng8arBX"
      },
      "execution_count": null,
      "outputs": []
    }
  ]
}